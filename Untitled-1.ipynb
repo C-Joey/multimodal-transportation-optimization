{
 "metadata": {
  "language_info": {
   "codemirror_mode": {
    "name": "ipython",
    "version": 3
   },
   "file_extension": ".py",
   "mimetype": "text/x-python",
   "name": "python",
   "nbconvert_exporter": "python",
   "pygments_lexer": "ipython3",
   "version": 3
  },
  "orig_nbformat": 2,
  "kernelspec": {
   "name": "pycharm-ca5ee2ca",
   "language": "python",
   "display_name": "PyCharm (multimodal-transportation-optimization)"
  }
 },
 "nbformat": 4,
 "nbformat_minor": 2,
 "cells": [
  {
   "cell_type": "code",
   "execution_count": 19,
   "metadata": {},
   "outputs": [],
   "source": [
    "import pandas as pd ,numpy as np\n"
   ]
  },
  {
   "cell_type": "code",
   "execution_count": 20,
   "metadata": {
    "tags": []
   },
   "outputs": [
    {
     "name": "stdout",
     "output_type": "stream",
     "text": [
      "             A   B   C   D\n",
      "2013-01-01   0   1   2   3\n",
      "2013-01-02   4   5   6   7\n",
      "2013-01-03   8   9  10  11\n",
      "2013-01-04  12  13  14  15\n",
      "2013-01-05  16  17  18  19\n",
      "2013-01-06  20  21  22  23\n"
     ]
    }
   ],
   "source": [
    "#create database\n",
    "dates = pd.date_range('20130101', periods=6)\n",
    "df = pd.DataFrame(np.arange(24).reshape((6,4)),index=dates, columns=['A','B','C','D'])\n",
    "print(df)"
   ]
  },
  {
   "cell_type": "code",
   "execution_count": 21,
   "metadata": {
    "tags": []
   },
   "outputs": [
    {
     "name": "stdout",
     "output_type": "stream",
     "text": [
      "             A  B   C   D\n",
      "2013-01-01   0  1   2   3\n",
      "2013-01-02   4  5   6   7\n",
      "2013-01-03   8  0  10  11\n",
      "2013-01-04  12  0  14  15\n",
      "2013-01-05  16  0  18  19\n",
      "2013-01-06  20  0  22  23\n"
     ]
    }
   ],
   "source": [
    "df.B[df.A>4] = 0\n",
    "print(df)\n"
   ]
  },
  {
   "cell_type": "code",
   "execution_count": 59,
   "metadata": {},
   "outputs": [],
   "source": [
    "\n",
    "filePath='model data.xlsx'\n",
    "order = pd.read_excel(filePath, sheet_name='Order Information')\n",
    "route = pd.read_excel(filePath, sheet_name='Route Information')\n",
    "#order['Tax Percentage'][order['Journey Type'] == 'Domestic'] = 0\n",
    "\n",
    "# order.loc['Tax Percentage',(order['Journey Type'] == 'Domestic')] = 0\n",
    "order.loc[order.loc[:,'Journey Type']=='Domestic','Tax Percentage'] = 0\n",
    "\n",
    "route['Cost'] = route[route.columns[7:12]].sum(axis=1)\n",
    "route['Time'] = np.ceil(route[route.columns[14:18]].sum(axis=1) / 24)\n",
    "route = route[list(route.columns[0:4]) + ['Fixed Freight Cost', 'Time', \\\n",
    "                                          'Cost', 'Warehouse Cost', 'Travel Mode', 'Transit Duty'] + list(\n",
    "    route.columns[-9:-2])]\n",
    "route = pd.melt(route, id_vars=route.columns[0:10], value_vars=route.columns[-7:] \\\n",
    "                , var_name='Weekday', value_name='Feasibility')\n",
    "route['Weekday'] = route['Weekday'].replace({'Monday': 1, 'Tuesday': 2, 'Wednesday': 3, \\\n",
    "                                             'Thursday': 4, 'Friday': 5, 'Saturday': 6, 'Sunday': 7})"
   ]
  },
  {
   "cell_type": "code",
   "execution_count": 23,
   "metadata": {
    "tags": []
   },
   "outputs": [
    {
     "name": "stdout",
     "output_type": "stream",
     "text": [
      "0    0.03\n",
      "1    0.01\n",
      "2    0.01\n",
      "3    0.10\n",
      "4    0.15\n",
      "5    0.01\n",
      "6    0.01\n",
      "7    1.00\n",
      "Name: Tax Percentage, dtype: float64\n"
     ]
    },
    {
     "name": "stderr",
     "output_type": "stream",
     "text": [
      "D:\\application\\conda\\lib\\site-packages\\ipykernel_launcher.py:1: SettingWithCopyWarning: \n",
      "A value is trying to be set on a copy of a slice from a DataFrame\n",
      "\n",
      "See the caveats in the documentation: https://pandas.pydata.org/pandas-docs/stable/user_guide/indexing.html#returning-a-view-versus-a-copy\n",
      "  \"\"\"Entry point for launching an IPython kernel.\n"
     ]
    }
   ],
   "source": [
    "order['Tax Percentage'][order['Journey Type'] == 'Domestic'] = 1\n",
    "print(order['Tax Percentage'])"
   ]
  },
  {
   "cell_type": "code",
   "execution_count": 24,
   "metadata": {
    "tags": []
   },
   "outputs": [
    {
     "name": "stdout",
     "output_type": "stream",
     "text": [
      "0    0.03\n",
      "1    0.01\n",
      "2    0.01\n",
      "3    0.10\n",
      "4    0.15\n",
      "5    0.01\n",
      "6    0.01\n",
      "7    0.00\n",
      "Name: Tax Percentage, dtype: float64\n"
     ]
    }
   ],
   "source": [
    "order.loc[order.loc[:,'Journey Type']=='Domestic','Tax Percentage'] = 0\n",
    "print(order['Tax Percentage'])"
   ]
  },
  {
   "cell_type": "code",
   "execution_count": 25,
   "metadata": {},
   "outputs": [
    {
     "data": {
      "text/plain": "   Order Number            Ship From              Ship To  \\\n0             1  Singapore Warehouse       Wuxi Warehouse   \n1             2   Malaysia Warehouse   Shanghai Warehouse   \n2             3  Singapore Warehouse   Shanghai Warehouse   \n3             4  Singapore Warehouse   Shanghai Warehouse   \n4             5       Wuxi Warehouse   Malaysia Warehouse   \n5             6   Shanghai Warehouse  Singapore Warehouse   \n6             7   Malaysia Warehouse  Singapore Warehouse   \n7             8       Wuxi Warehouse   Shanghai Warehouse   \n\n              Commodity  Order Value  Weight (KG)  Volume Shipper Name  \\\n0                 Honey        50000        21000      34          YCH   \n1             Furniture        10000        20000      67          YCH   \n2          Paper plates        12000        20000      67          YCH   \n3  Pharmaceutical drugs       800000           20       7          YCH   \n4             Cigarette       700000         5000      50          YCH   \n5                 Apple        30000        25000      67          YCH   \n6                Durian        10000        10000      34          YCH   \n7             Furniture        10000        20000      67          YCH   \n\n  Shipper Address Shipper Country Consignee Country Order Date  \\\n0     8 Bulim Ave       Singapore             China 2018-02-01   \n1     8 Bulim Ave        Malaysia             China 2018-02-02   \n2     8 Bulim Ave       Singapore             China 2018-02-03   \n3     8 Bulim Ave       Singapore             China 2018-02-04   \n4     8 Bulim Ave           China          Malaysia 2018-02-05   \n5     8 Bulim Ave           China         Singapore 2018-02-06   \n6     8 Bulim Ave        Malaysia         Singapore 2018-02-07   \n7     8 Bulim Ave           China             China 2018-02-08   \n\n  Required Delivery Date   Journey Type  Tax Percentage  \n0             2018-02-25  International            0.03  \n1             2018-02-23  International            0.01  \n2             2018-02-23  International            0.01  \n3             2018-02-24  International            0.10  \n4             2018-02-22  International            0.15  \n5             2018-02-23  International            0.01  \n6             2018-02-24  International            0.01  \n7             2018-02-25       Domestic            0.00  ",
      "text/html": "<div>\n<style scoped>\n    .dataframe tbody tr th:only-of-type {\n        vertical-align: middle;\n    }\n\n    .dataframe tbody tr th {\n        vertical-align: top;\n    }\n\n    .dataframe thead th {\n        text-align: right;\n    }\n</style>\n<table border=\"1\" class=\"dataframe\">\n  <thead>\n    <tr style=\"text-align: right;\">\n      <th></th>\n      <th>Order Number</th>\n      <th>Ship From</th>\n      <th>Ship To</th>\n      <th>Commodity</th>\n      <th>Order Value</th>\n      <th>Weight (KG)</th>\n      <th>Volume</th>\n      <th>Shipper Name</th>\n      <th>Shipper Address</th>\n      <th>Shipper Country</th>\n      <th>Consignee Country</th>\n      <th>Order Date</th>\n      <th>Required Delivery Date</th>\n      <th>Journey Type</th>\n      <th>Tax Percentage</th>\n    </tr>\n  </thead>\n  <tbody>\n    <tr>\n      <th>0</th>\n      <td>1</td>\n      <td>Singapore Warehouse</td>\n      <td>Wuxi Warehouse</td>\n      <td>Honey</td>\n      <td>50000</td>\n      <td>21000</td>\n      <td>34</td>\n      <td>YCH</td>\n      <td>8 Bulim Ave</td>\n      <td>Singapore</td>\n      <td>China</td>\n      <td>2018-02-01</td>\n      <td>2018-02-25</td>\n      <td>International</td>\n      <td>0.03</td>\n    </tr>\n    <tr>\n      <th>1</th>\n      <td>2</td>\n      <td>Malaysia Warehouse</td>\n      <td>Shanghai Warehouse</td>\n      <td>Furniture</td>\n      <td>10000</td>\n      <td>20000</td>\n      <td>67</td>\n      <td>YCH</td>\n      <td>8 Bulim Ave</td>\n      <td>Malaysia</td>\n      <td>China</td>\n      <td>2018-02-02</td>\n      <td>2018-02-23</td>\n      <td>International</td>\n      <td>0.01</td>\n    </tr>\n    <tr>\n      <th>2</th>\n      <td>3</td>\n      <td>Singapore Warehouse</td>\n      <td>Shanghai Warehouse</td>\n      <td>Paper plates</td>\n      <td>12000</td>\n      <td>20000</td>\n      <td>67</td>\n      <td>YCH</td>\n      <td>8 Bulim Ave</td>\n      <td>Singapore</td>\n      <td>China</td>\n      <td>2018-02-03</td>\n      <td>2018-02-23</td>\n      <td>International</td>\n      <td>0.01</td>\n    </tr>\n    <tr>\n      <th>3</th>\n      <td>4</td>\n      <td>Singapore Warehouse</td>\n      <td>Shanghai Warehouse</td>\n      <td>Pharmaceutical drugs</td>\n      <td>800000</td>\n      <td>20</td>\n      <td>7</td>\n      <td>YCH</td>\n      <td>8 Bulim Ave</td>\n      <td>Singapore</td>\n      <td>China</td>\n      <td>2018-02-04</td>\n      <td>2018-02-24</td>\n      <td>International</td>\n      <td>0.10</td>\n    </tr>\n    <tr>\n      <th>4</th>\n      <td>5</td>\n      <td>Wuxi Warehouse</td>\n      <td>Malaysia Warehouse</td>\n      <td>Cigarette</td>\n      <td>700000</td>\n      <td>5000</td>\n      <td>50</td>\n      <td>YCH</td>\n      <td>8 Bulim Ave</td>\n      <td>China</td>\n      <td>Malaysia</td>\n      <td>2018-02-05</td>\n      <td>2018-02-22</td>\n      <td>International</td>\n      <td>0.15</td>\n    </tr>\n    <tr>\n      <th>5</th>\n      <td>6</td>\n      <td>Shanghai Warehouse</td>\n      <td>Singapore Warehouse</td>\n      <td>Apple</td>\n      <td>30000</td>\n      <td>25000</td>\n      <td>67</td>\n      <td>YCH</td>\n      <td>8 Bulim Ave</td>\n      <td>China</td>\n      <td>Singapore</td>\n      <td>2018-02-06</td>\n      <td>2018-02-23</td>\n      <td>International</td>\n      <td>0.01</td>\n    </tr>\n    <tr>\n      <th>6</th>\n      <td>7</td>\n      <td>Malaysia Warehouse</td>\n      <td>Singapore Warehouse</td>\n      <td>Durian</td>\n      <td>10000</td>\n      <td>10000</td>\n      <td>34</td>\n      <td>YCH</td>\n      <td>8 Bulim Ave</td>\n      <td>Malaysia</td>\n      <td>Singapore</td>\n      <td>2018-02-07</td>\n      <td>2018-02-24</td>\n      <td>International</td>\n      <td>0.01</td>\n    </tr>\n    <tr>\n      <th>7</th>\n      <td>8</td>\n      <td>Wuxi Warehouse</td>\n      <td>Shanghai Warehouse</td>\n      <td>Furniture</td>\n      <td>10000</td>\n      <td>20000</td>\n      <td>67</td>\n      <td>YCH</td>\n      <td>8 Bulim Ave</td>\n      <td>China</td>\n      <td>China</td>\n      <td>2018-02-08</td>\n      <td>2018-02-25</td>\n      <td>Domestic</td>\n      <td>0.00</td>\n    </tr>\n  </tbody>\n</table>\n</div>"
     },
     "execution_count": 25,
     "metadata": {},
     "output_type": "execute_result"
    }
   ],
   "source": [
    "order.loc[:,:]"
   ]
  },
  {
   "cell_type": "code",
   "execution_count": 26,
   "metadata": {},
   "outputs": [
    {
     "data": {
      "text/plain": "0         Wuxi Warehouse\n1     Shanghai Warehouse\n2     Shanghai Warehouse\n3     Shanghai Warehouse\n4     Malaysia Warehouse\n5    Singapore Warehouse\n6    Singapore Warehouse\n7     Shanghai Warehouse\nName: Ship To, dtype: object"
     },
     "execution_count": 26,
     "metadata": {},
     "output_type": "execute_result"
    }
   ],
   "source": [
    "order.loc[:,'Ship To']"
   ]
  },
  {
   "cell_type": "code",
   "execution_count": 28,
   "metadata": {},
   "outputs": [
    {
     "data": {
      "text/plain": "0      NaN\n1      NaN\n2      NaN\n3      NaN\n4      NaN\n5      NaN\n6      NaN\n7      NaN\n8      NaN\n9      NaN\n10     NaN\n11     NaN\n12     NaN\n13     NaN\n14     NaN\n15     NaN\n16     NaN\n17     NaN\n18     NaN\n19     NaN\n20     NaN\n21     NaN\n22    20.0\n23     NaN\n24    20.0\n25     NaN\n26    20.0\n27     NaN\n28    10.0\n29     NaN\n30    10.0\n31     NaN\n32    10.0\n33     NaN\n34     8.0\n35     NaN\n36     8.0\n37     NaN\n38     8.0\n39     NaN\n40    15.0\n41     NaN\n42    15.0\n43     NaN\n44    15.0\n45     NaN\n46    20.0\n47    10.0\n48    15.0\n49     8.0\nName: Warehouse Cost, dtype: float64"
     },
     "execution_count": 28,
     "metadata": {},
     "output_type": "execute_result"
    }
   ],
   "source": [
    "route['Warehouse Cost']"
   ]
  },
  {
   "cell_type": "code",
   "execution_count": 41,
   "metadata": {},
   "outputs": [
    {
     "name": "stdout",
     "output_type": "stream",
     "text": [
      "0     1000.0\n",
      "1     1000.0\n",
      "2     1000.0\n",
      "3     1000.0\n",
      "4     1000.0\n",
      "5     1000.0\n",
      "6     1000.0\n",
      "7     1000.0\n",
      "8     1000.0\n",
      "9     1000.0\n",
      "10    1000.0\n",
      "11    1000.0\n",
      "12    1000.0\n",
      "13    1000.0\n",
      "14    1000.0\n",
      "15    1000.0\n",
      "16    1000.0\n",
      "17    1000.0\n",
      "18    1000.0\n",
      "19    1000.0\n",
      "20    1000.0\n",
      "21    1000.0\n",
      "22      20.0\n",
      "23    1000.0\n",
      "24      20.0\n",
      "25    1000.0\n",
      "26      20.0\n",
      "27    1000.0\n",
      "28      10.0\n",
      "29    1000.0\n",
      "30      10.0\n",
      "31    1000.0\n",
      "32      10.0\n",
      "33    1000.0\n",
      "34       8.0\n",
      "35    1000.0\n",
      "36       8.0\n",
      "37    1000.0\n",
      "38       8.0\n",
      "39    1000.0\n",
      "40      15.0\n",
      "41    1000.0\n",
      "42      15.0\n",
      "43    1000.0\n",
      "44      15.0\n",
      "45    1000.0\n",
      "46      20.0\n",
      "47      10.0\n",
      "48      15.0\n",
      "49       8.0\n",
      "Name: Warehouse Cost, dtype: float64\n"
     ]
    }
   ],
   "source": [
    "big = 1000\n",
    "\n",
    "route['Warehouse Cost'].fillna(big,inplace = True)\n",
    "print(route['Warehouse Cost'])"
   ]
  },
  {
   "cell_type": "code",
   "execution_count": 34,
   "outputs": [
    {
     "data": {
      "text/plain": "0      NaN\n1      NaN\n2      NaN\n3      NaN\n4      NaN\n5      NaN\n6      NaN\n7      NaN\n8      NaN\n9      NaN\n10     NaN\n11     NaN\n12     NaN\n13     NaN\n14     NaN\n15     NaN\n16     NaN\n17     NaN\n18     NaN\n19     NaN\n20     NaN\n21     NaN\n22    20.0\n23     NaN\n24    20.0\n25     NaN\n26    20.0\n27     NaN\n28    10.0\n29     NaN\n30    10.0\n31     NaN\n32    10.0\n33     NaN\n34     8.0\n35     NaN\n36     8.0\n37     NaN\n38     8.0\n39     NaN\n40    15.0\n41     NaN\n42    15.0\n43     NaN\n44    15.0\n45     NaN\n46    20.0\n47    10.0\n48    15.0\n49     8.0\nName: Warehouse Cost, dtype: float64"
     },
     "execution_count": 34,
     "metadata": {},
     "output_type": "execute_result"
    }
   ],
   "source": [
    "route['Warehouse Cost']"
   ],
   "metadata": {
    "collapsed": false,
    "pycharm": {
     "name": "#%%\n"
    }
   }
  },
  {
   "cell_type": "code",
   "execution_count": 60,
   "outputs": [
    {
     "data": {
      "text/plain": "0      1\n1      1\n2      0\n3      0\n4      0\n      ..\n345    1\n346    1\n347    1\n348    1\n349    1\nName: Feasibility, Length: 350, dtype: int64"
     },
     "execution_count": 60,
     "metadata": {},
     "output_type": "execute_result"
    }
   ],
   "source": [
    "route['Feasibility']\n"
   ],
   "metadata": {
    "collapsed": false,
    "pycharm": {
     "name": "#%%\n"
    }
   }
  },
  {
   "cell_type": "code",
   "execution_count": 73,
   "outputs": [
    {
     "name": "stdout",
     "output_type": "stream",
     "text": [
      "0      1\n",
      "1      1\n",
      "6      1\n",
      "7      1\n",
      "8      1\n",
      "      ..\n",
      "345    1\n",
      "346    1\n",
      "347    1\n",
      "348    1\n",
      "349    1\n",
      "Name: Feasibility, Length: 310, dtype: int64\n"
     ]
    }
   ],
   "source": [
    "x=route.copy()\n",
    "# x.loc[x['Feasibility'== 1],:]\n",
    "x = x.loc[x['Feasibility']==1]\n",
    "print(x['Feasibility'])"
   ],
   "metadata": {
    "collapsed": false,
    "pycharm": {
     "name": "#%%\n"
    }
   }
  },
  {
   "cell_type": "code",
   "execution_count": 79,
   "outputs": [
    {
     "name": "stdout",
     "output_type": "stream",
     "text": [
      "time: 0.0\n"
     ]
    }
   ],
   "source": [
    "import time\n",
    "\n",
    "time_begin = time.time()\n",
    "\n",
    "#code,你的程序\n",
    "\n",
    "time_end = time.time()\n",
    "\n",
    "time = time_end - time_begin\n",
    "\n",
    "print('time:', time)"
   ],
   "metadata": {
    "collapsed": false,
    "pycharm": {
     "name": "#%%\n"
    }
   }
  },
  {
   "cell_type": "code",
   "execution_count": null,
   "outputs": [],
   "source": [],
   "metadata": {
    "collapsed": false,
    "pycharm": {
     "name": "#%%\n"
    }
   }
  }
 ]
}